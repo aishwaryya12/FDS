{
 "cells": [
  {
   "cell_type": "code",
   "execution_count": 2,
   "metadata": {},
   "outputs": [
    {
     "data": {
      "text/plain": [
       "[('g', 'g'), ('g', 'b'), ('b', 'g'), ('b', 'b')]"
      ]
     },
     "execution_count": 2,
     "metadata": {},
     "output_type": "execute_result"
    }
   ],
   "source": [
    "import itertools\n",
    "from itertools import product\n",
    "box_1=['g','b']\n",
    "perm=[]\n",
    "for p in itertools.product(box_1, repeat=2):\n",
    "    perm.append(p)\n",
    "perm"
   ]
  },
  {
   "cell_type": "code",
   "execution_count": 3,
   "metadata": {},
   "outputs": [
    {
     "data": {
      "text/plain": [
       "[('g', 'g', 'g'),\n",
       " ('g', 'g', 'b'),\n",
       " ('g', 'g', 'y'),\n",
       " ('g', 'b', 'g'),\n",
       " ('g', 'b', 'b'),\n",
       " ('g', 'b', 'y'),\n",
       " ('g', 'y', 'g'),\n",
       " ('g', 'y', 'b'),\n",
       " ('g', 'y', 'y'),\n",
       " ('b', 'g', 'g'),\n",
       " ('b', 'g', 'b'),\n",
       " ('b', 'g', 'y'),\n",
       " ('b', 'b', 'g'),\n",
       " ('b', 'b', 'b'),\n",
       " ('b', 'b', 'y'),\n",
       " ('b', 'y', 'g'),\n",
       " ('b', 'y', 'b'),\n",
       " ('b', 'y', 'y'),\n",
       " ('y', 'g', 'g'),\n",
       " ('y', 'g', 'b'),\n",
       " ('y', 'g', 'y'),\n",
       " ('y', 'b', 'g'),\n",
       " ('y', 'b', 'b'),\n",
       " ('y', 'b', 'y'),\n",
       " ('y', 'y', 'g'),\n",
       " ('y', 'y', 'b'),\n",
       " ('y', 'y', 'y')]"
      ]
     },
     "execution_count": 3,
     "metadata": {},
     "output_type": "execute_result"
    }
   ],
   "source": [
    "box_2=['g','b','y']\n",
    "perm=[]\n",
    "for p in itertools.product(box_2,repeat=3):\n",
    "    perm.append(p)\n",
    "perm\n"
   ]
  },
  {
   "cell_type": "code",
   "execution_count": 5,
   "metadata": {},
   "outputs": [
    {
     "name": "stdout",
     "output_type": "stream",
     "text": [
      "('g', 'b')\n",
      "('b', 'g')\n"
     ]
    }
   ],
   "source": [
    "import itertools\n",
    "box_1=['g','b']\n",
    "perm=itertools.permutations(box_1)\n",
    "for i in list(perm):\n",
    "    print(i)"
   ]
  },
  {
   "cell_type": "code",
   "execution_count": 6,
   "metadata": {},
   "outputs": [
    {
     "name": "stdout",
     "output_type": "stream",
     "text": [
      "('g', 'b', 'y')\n",
      "('g', 'y', 'b')\n",
      "('b', 'g', 'y')\n",
      "('b', 'y', 'g')\n",
      "('y', 'g', 'b')\n",
      "('y', 'b', 'g')\n"
     ]
    }
   ],
   "source": [
    "box_2=['g','b','y']\n",
    "perm=itertools.permutations(box_2)\n",
    "for i in list(perm):\n",
    "    print(i)\n",
    "    "
   ]
  },
  {
   "cell_type": "code",
   "execution_count": 7,
   "metadata": {},
   "outputs": [
    {
     "data": {
      "text/plain": [
       "[('g', 'g'),\n",
       " ('g', 'b'),\n",
       " ('g', 'y'),\n",
       " ('b', 'g'),\n",
       " ('b', 'b'),\n",
       " ('b', 'y'),\n",
       " ('y', 'g'),\n",
       " ('y', 'b'),\n",
       " ('y', 'y')]"
      ]
     },
     "execution_count": 7,
     "metadata": {},
     "output_type": "execute_result"
    }
   ],
   "source": [
    "box_2=['g','b','y']\n",
    "perm=[]\n",
    "for p in itertools.product(box_2,repeat=2):\n",
    "    perm.append(p)\n",
    "perm"
   ]
  },
  {
   "cell_type": "code",
   "execution_count": 8,
   "metadata": {},
   "outputs": [
    {
     "name": "stdout",
     "output_type": "stream",
     "text": [
      "('g', 'b')\n",
      "('g', 'y')\n",
      "('b', 'g')\n",
      "('b', 'y')\n",
      "('y', 'g')\n",
      "('y', 'b')\n"
     ]
    }
   ],
   "source": [
    "box_2=['g','b','y']\n",
    "perm=itertools.permutations(box_2,2)\n",
    "for i in list(perm):\n",
    "    print(i)\n",
    "    "
   ]
  },
  {
   "cell_type": "code",
   "execution_count": 10,
   "metadata": {},
   "outputs": [
    {
     "name": "stdout",
     "output_type": "stream",
     "text": [
      "('g', 'g')\n",
      "('g', 'b')\n",
      "('b', 'b')\n"
     ]
    }
   ],
   "source": [
    "from itertools import combinations_with_replacement\n",
    "box_1=['g','b']\n",
    "comb=combinations_with_replacement(box_1,2)\n",
    "\n",
    "for i in list(comb):\n",
    "    print(i)"
   ]
  },
  {
   "cell_type": "code",
   "execution_count": 11,
   "metadata": {},
   "outputs": [
    {
     "name": "stdout",
     "output_type": "stream",
     "text": [
      "('g', 'g')\n",
      "('g', 'b')\n",
      "('g', 'y')\n",
      "('b', 'b')\n",
      "('b', 'y')\n",
      "('y', 'y')\n"
     ]
    }
   ],
   "source": [
    "from itertools import combinations_with_replacement\n",
    "box_2=['g','b','y']\n",
    "comb=combinations_with_replacement(box_2,2)\n",
    "\n",
    "for i in list(comb):\n",
    "    print(i)"
   ]
  },
  {
   "cell_type": "code",
   "execution_count": 13,
   "metadata": {},
   "outputs": [
    {
     "name": "stdout",
     "output_type": "stream",
     "text": [
      "('g', 'b')\n"
     ]
    }
   ],
   "source": [
    "from itertools import combinations\n",
    "comb=combinations(box_1,2)\n",
    "\n",
    "for i in list(comb):\n",
    "    print(i)"
   ]
  },
  {
   "cell_type": "code",
   "execution_count": 14,
   "metadata": {},
   "outputs": [
    {
     "name": "stdout",
     "output_type": "stream",
     "text": [
      "('g', 'b')\n",
      "('g', 'y')\n",
      "('b', 'y')\n"
     ]
    }
   ],
   "source": [
    "from itertools import combinations\n",
    "comb=combinations(box_2,2)\n",
    "\n",
    "for i in list(comb):\n",
    "    print(i)"
   ]
  },
  {
   "cell_type": "code",
   "execution_count": null,
   "metadata": {},
   "outputs": [],
   "source": []
  }
 ],
 "metadata": {
  "kernelspec": {
   "display_name": "Python 3",
   "language": "python",
   "name": "python3"
  },
  "language_info": {
   "codemirror_mode": {
    "name": "ipython",
    "version": 3
   },
   "file_extension": ".py",
   "mimetype": "text/x-python",
   "name": "python",
   "nbconvert_exporter": "python",
   "pygments_lexer": "ipython3",
   "version": "3.7.3"
  }
 },
 "nbformat": 4,
 "nbformat_minor": 2
}
